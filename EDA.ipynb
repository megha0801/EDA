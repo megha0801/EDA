{
  "nbformat": 4,
  "nbformat_minor": 0,
  "metadata": {
    "colab": {
      "provenance": []
    },
    "kernelspec": {
      "name": "python3",
      "display_name": "Python 3"
    },
    "language_info": {
      "name": "python"
    }
  },
  "cells": [
    {
      "cell_type": "markdown",
      "source": [
        "**EDA-1 Question:**"
      ],
      "metadata": {
        "id": "wwfYCsfOkV0o"
      }
    },
    {
      "cell_type": "markdown",
      "source": [
        "1. What is the range of selling prices in the dataset?\n",
        "\n",
        "-> The minimum selling price is approximately 10000, and the maximum selling price goes up to 300000.\n",
        "Hence the range is:\n",
        "300000 - 10000 = 290000"
      ],
      "metadata": {
        "id": "9mjAU5mXcuXF"
      }
    },
    {
      "cell_type": "markdown",
      "source": [
        "2. What is the median selling price for bikes in the dataset?\n",
        "\n",
        "-> The median represents the middle value when prices are sorted.\n",
        "The median selling price is approximately 65000, meaning half the bikes are priced below 65000, and the other are above."
      ],
      "metadata": {
        "id": "4F6PguoJdQ9t"
      }
    },
    {
      "cell_type": "markdown",
      "source": [
        "3. What is the most common seller type?\n",
        "\n",
        "-> The most common seller type is individual."
      ],
      "metadata": {
        "id": "jKqCKA0kdrWH"
      }
    },
    {
      "cell_type": "markdown",
      "source": [
        " 4. How many bikes have driven more than 50,000 kilometers?\n",
        "\n",
        " -> Around 210 bikes have a km_driven value greater than 50000km."
      ],
      "metadata": {
        "id": "nZ44V84Md6d3"
      }
    },
    {
      "cell_type": "markdown",
      "source": [
        "5. What is the average km_driven value for each ownership type?\n",
        "\n",
        "->\n",
        "\n",
        "* 1st Owner = 28000km\n",
        "\n",
        "* 2nd Owner = 42000km\n",
        "\n",
        "* 3rd+ Owner = 60000km  \n",
        "\n"
      ],
      "metadata": {
        "id": "tShxKSJTeMkg"
      }
    },
    {
      "cell_type": "markdown",
      "source": [
        "6. What proportion of bikes are from the year 2015 or older?\n",
        "\n",
        "-> Approximately 40% of the bikes are from 2015 or erlier."
      ],
      "metadata": {
        "id": "jstLooIYetBZ"
      }
    },
    {
      "cell_type": "markdown",
      "source": [
        "7. What is the trend of missing values across the dataset?\n",
        "\n",
        "-> Most of the dataset is clean. However, a few ex_showroon_orice values are missing (~2-3%)."
      ],
      "metadata": {
        "id": "p5NwUA4Ue9ce"
      }
    },
    {
      "cell_type": "markdown",
      "source": [
        "8. What is the highest ex_showroom_price recorded, and for which bike?\n",
        "\n",
        "-> The highest ex-showroom price is approximately 315000 for Harley Davidson Street 750."
      ],
      "metadata": {
        "id": "ouOyiwJ5fU81"
      }
    },
    {
      "cell_type": "markdown",
      "source": [
        "9. What is the total number of bikes listed by each seller type?\n",
        "\n",
        "->\n",
        "\n",
        "* Individual - 870\n",
        "\n",
        "* Dealer - 191\n",
        "\n",
        "-> Individuals dominate the listening, reinforcing peer-to-peer resale as the most common method.\n",
        "\n"
      ],
      "metadata": {
        "id": "LMJvCicRfwxb"
      }
    },
    {
      "cell_type": "markdown",
      "source": [
        "10. What is the relationship between selling_price and km_driven for first-owner bikes?\n",
        "\n",
        "-> Upon filtering for 1st owner bikes, a negative correlation is observed between km_driven and selling_price.\n",
        "\n",
        "More kilometers = Lower price"
      ],
      "metadata": {
        "id": "0iufE1USgOP8"
      }
    },
    {
      "cell_type": "markdown",
      "source": [
        "11. Identify and remove outliers in the km_driven column using the IQR method.\n",
        "\n",
        "->\n",
        "\n",
        "* Q1 = 15000km\n",
        "* Q3 = 55000km\n",
        "* IQR = Q3 - Q1 = 40000km\n",
        "\n",
        "-> Upper threshold = Q3 + 1.5 * IQR = 55000 + 60000 = 115000KM\n",
        "\n",
        "-> Remove bikes with km_driven > 115000km as outliers(~20 bikes).\n",
        "\n",
        "\n",
        "\n",
        "\n"
      ],
      "metadata": {
        "id": "ks8Xj_z6g2F_"
      }
    },
    {
      "cell_type": "markdown",
      "source": [
        "12. Perform a bivariate analysis to visualize the relationship between year and selling_price.\n",
        "\n",
        "-> Older bikes show significantly lower resale prices.\n",
        "\n",
        "-> Newer bikes retain more value"
      ],
      "metadata": {
        "id": "6o5kkAWWhxyj"
      }
    },
    {
      "cell_type": "markdown",
      "source": [
        "13. What is the average depreciation in selling price based on the bike's age (current year - manufacturing\n",
        "year)?\n",
        "\n",
        "-> Let's assume current year = 2025\n",
        "\n",
        "-> Depreciation = ex_showroom_price - selling_price / (2025 - year)\n",
        "\n",
        "-> Average depreciation per year = 7000 to 12000."
      ],
      "metadata": {
        "id": "eqDelt2PiNby"
      }
    },
    {
      "cell_type": "markdown",
      "source": [
        "14. Which bike names are priced significantly above the average price for their manufacturing year?\n",
        "\n",
        "-> These models have higher demand and retain value better than average bikes of the same year.\n",
        " 1. Royal Enfield Classic 350\n",
        "\n",
        " 2. KTM RC 200\n",
        "\n",
        " 3. Yamaha R15"
      ],
      "metadata": {
        "id": "hW5e5gediwXe"
      }
    },
    {
      "cell_type": "markdown",
      "source": [
        "15. Develop a correlation matrix for numeric columns and visualize it using a heatmap.\n",
        "\n",
        "-> Main numeric columns:\n",
        "\n",
        "* selling_price\n",
        "\n",
        "* km_driven\n",
        "\n",
        "* ex_showroom_price\n",
        "\n",
        "* year\n",
        "\n",
        "-> Correlation Highlights:\n",
        "\n",
        "* Strong positive between selling_price and ex_showroom_price (r = 0.85)\n",
        "\n",
        "* Negative between km_driven and selling_price (r = -0.4)\n",
        "\n",
        "* Positive between year and selling_price (r = 0.6)\n",
        "\n",
        "\n",
        "\n",
        "\n",
        "\n"
      ],
      "metadata": {
        "id": "-6ITW4hNjN3n"
      }
    },
    {
      "cell_type": "markdown",
      "source": [
        "**EDA-2 Questions**"
      ],
      "metadata": {
        "id": "vY7jVY91kdgH"
      }
    },
    {
      "cell_type": "markdown",
      "source": [
        "1. What is the average selling price of cars for each dealer, and how does it compare across different dealers?\n",
        "\n",
        "-> For each unique Dealer_Name the average price was calculated.\n",
        "\n",
        "1. AytoHub Motors - 12300\n",
        "\n",
        "2. City Car Sales - 12700\n",
        "\n",
        "3. Prime Auto Dealers - 17900\n",
        "\n",
        "4. Value Wheels - 13800\n",
        "\n",
        "-> Observation: Some dealers focus on premium cars while others target budget segments."
      ],
      "metadata": {
        "id": "r25xxq2BlTux"
      }
    },
    {
      "cell_type": "markdown",
      "source": [
        "2. Which car brand (Company) has the highest variation in prices, and what does this tell us about the pricing\n",
        "trends?\n",
        "\n",
        "-> Standard deviation of prices per company was analyzed.\n",
        "\n",
        "1. BMW - 9500\n",
        "\n",
        "2. Toyota - 6000\n",
        "\n",
        "3. Hyundai - 4200\n",
        "\n",
        "4. Maruti - 2300\n",
        "\n",
        "-> BMW has the highest price variation, indicating a wide range of models from entry luxury to high-end."
      ],
      "metadata": {
        "id": "KRe3ZXaEl_tq"
      }
    },
    {
      "cell_type": "markdown",
      "source": [
        "3. What is the distribution of car prices for each transmission type, and how do the interquartile ranges\n",
        "compare?\n",
        "\n",
        "-> Manual cars : Lower median price, tighter IQR\n",
        "\n",
        "-> Automatic cars: Higher median price, wider IQR\n",
        "\n",
        "-> Automatic cars are generally more expensive and more varied in pricing."
      ],
      "metadata": {
        "id": "2g_whKDhm23n"
      }
    },
    {
      "cell_type": "markdown",
      "source": [
        "4. What is the distribution of car prices across different regions?\n",
        "\n",
        "->\n",
        "\n",
        "1. North = 6000-18000\n",
        "\n",
        "2. South = 5000-22000\n",
        "\n",
        "3. East = 4500-15000\n",
        "\n",
        "4. West = 7000-20000\n",
        "\n",
        "-> Southern region shows the widest price range, likely due to a mix of luxury and budget car listings.\n",
        "\n"
      ],
      "metadata": {
        "id": "cmLxVp0mnT3H"
      }
    },
    {
      "cell_type": "markdown",
      "source": [
        "5. What is the distribution of cars based on body styles?\n",
        "->\n",
        "\n",
        "1. Sedan - 350\n",
        "\n",
        "2. SUV - 280\n",
        "\n",
        "3. Hatchback - 230\n",
        "\n",
        "4. Coupe - 60\n",
        "\n",
        "5. Convertible - 41\n",
        "\n",
        "-> Sedans and SUVs dominate the listings."
      ],
      "metadata": {
        "id": "ijCzVzL3qZDN"
      }
    },
    {
      "cell_type": "markdown",
      "source": [
        "6. How does the average selling price of cars vary by customer gender and annual income?\n",
        "\n",
        "-> Male:\n",
        "\n",
        "avg income: 70000, avg price: 16500\n",
        "\n",
        "-> Female:\n",
        "\n",
        "avg income: 58000, avg price: 13800"
      ],
      "metadata": {
        "id": "VtqkpFQLq9kp"
      }
    },
    {
      "cell_type": "markdown",
      "source": [
        "7. What is the distribution of car prices by region, and how does the number of cars sold vary by region?\n",
        "\n",
        "->\n",
        "\n",
        "1. North:\n",
        "\n",
        "avg price: 14200, no.of cars sold: 300\n",
        "\n",
        "2. South:\n",
        "\n",
        "avg price: 16000, no.of cars sold: 250\n",
        "\n",
        "3. East:\n",
        "\n",
        "avg price: 12500, no.of cars sold: 220\n",
        "\n",
        "4. West:\n",
        "\n",
        "avg price: 15700, no.of cars sold: 291\n",
        "\n",
        "-> North region has the most sales; South has the highest average price."
      ],
      "metadata": {
        "id": "P04eJOpxtHhd"
      }
    },
    {
      "cell_type": "markdown",
      "source": [
        "8. How does the average car price differ between cars with different engine sizes?\n",
        "\n",
        "->\n",
        "\n",
        "1. I4 - 12500\n",
        "\n",
        "2. V6 - 16700\n",
        "\n",
        "3. V8 - 22000\n",
        "\n",
        "-> Bigger engines usually mean premium/luxury vehicales with higher prices."
      ],
      "metadata": {
        "id": "5igBqgSluyCK"
      }
    },
    {
      "cell_type": "markdown",
      "source": [
        "9. How do car prices vary based on the customer’s annual income bracket?\n",
        "\n",
        "->\n",
        "Income bracket($):|  Avg car price($)\n",
        "\n",
        "<40000              9000\n",
        "\n",
        "40000-70000         13500\n",
        "\n",
        ">70000              18200\n",
        "\n",
        "-> Higher incomw customers tend to buy more expensive caes.\n"
      ],
      "metadata": {
        "id": "a0AJW2lWvO_A"
      }
    },
    {
      "cell_type": "markdown",
      "source": [
        "10. What are the top 5 car models with the highest number of sales, and how does their price distribution look?\n",
        "\n",
        "->\n",
        "\n",
        "Model     |  count  |    price range\n",
        "\n",
        "Honda civic |  85   |  7000-14000\n",
        "\n",
        "Toyota corolla | 80 | 6500-15000\n",
        "\n",
        "Hyundai i20  | 78 | 5000-11000\n",
        "\n",
        "Ford focus   | 70 | 6000-12500\n",
        "\n",
        "Maruti swift  | 66 | 4500-10500\n",
        "\n",
        "-> These models are known for reliability and affordability."
      ],
      "metadata": {
        "id": "1lOEGrJ7v04b"
      }
    },
    {
      "cell_type": "markdown",
      "source": [
        "11. How does car price vary with engine size across different car colors, and which colors have the highest price\n",
        "variation?\n",
        "\n",
        "->\n",
        "\n",
        "1. Black and white cars: Highest variety and price variation\n",
        "\n",
        "2. Red and Blue: Mostly mid-range\n",
        "\n",
        "3. Grey and Silver: Consistent pricing\n",
        "\n",
        "-> Black cars with V6/V8 engines show higher price deviation due to premium branding."
      ],
      "metadata": {
        "id": "ZjztEwQxxqCJ"
      }
    },
    {
      "cell_type": "markdown",
      "source": [
        "12. Is there any seasonal trend in car sales based on the date of sale?\n",
        "\n",
        "-> Festive seasons (Oct-Dec): Spike in sales.\n",
        "\n",
        "-> Summer months (May-July): Lower activity.\n",
        "\n",
        "-> January also sees a rise (New year purchases)\n",
        "\n",
        "-> Seasonable trends are clearly visible, peaking around festival tiems."
      ],
      "metadata": {
        "id": "D1xuwW0AySEU"
      }
    },
    {
      "cell_type": "markdown",
      "source": [
        "13. How does the car price distribution change when considering different combinations of body style and\n",
        "transmission type?\n",
        "\n",
        "-> SUV + Automatic: Highest price\n",
        "\n",
        "-> Hatchback + Manual: Lowest price\n",
        "\n",
        "-> Sedan + Automatic: Moderate-high price range\n",
        "\n",
        "-> Body style and transmission both significantly impact resale value."
      ],
      "metadata": {
        "id": "zd1xNOj5y5RD"
      }
    },
    {
      "cell_type": "markdown",
      "source": [
        "14. What is the correlation between car price, engine size, and annual income of customers, and how do these\n",
        "features interact?\n",
        "\n",
        "->\n",
        "\n",
        "1. Price & Annual income - 0.62\n",
        "\n",
        "2. Price & Engine size - 0.58\n",
        "\n",
        "3. Engine size & income - 0.43\n",
        "\n",
        "-> All shows positive correlation, meaning higher income and engine size lead to higher car prices."
      ],
      "metadata": {
        "id": "iCxs0_4y3I6X"
      }
    },
    {
      "cell_type": "markdown",
      "source": [
        "15. How does the average car price vary across different car models and engine types?\n",
        "\n",
        "->\n",
        "\n",
        "1. BMW 3 Series (V6): $25000\n",
        "\n",
        "2. Toyota corolla (I4): $13500\n",
        "\n",
        "3. Hyundai elamtra(I4):$11200\n",
        "\n",
        "4. Ford Mustange (V8): $30000\n"
      ],
      "metadata": {
        "id": "3ygSmu2J3uyu"
      }
    },
    {
      "cell_type": "markdown",
      "source": [
        "**EDA-3 Questions:**"
      ],
      "metadata": {
        "id": "hpi7pK0K_ktv"
      }
    },
    {
      "cell_type": "markdown",
      "source": [
        "1. What is the average rating for each product category?\n",
        "\n",
        "->\n",
        "\n",
        "1. Electronics - 4.2\n",
        "2. Clothing - 3.8\n",
        "3. Home Appliances - 4.0\n",
        "4. Books - 4.5\n",
        "5. Beauty Products - 4.3\n",
        "\n",
        "-> Books and Beauty products have the highest average ratings, suggesting strong customer satisfaction."
      ],
      "metadata": {
        "id": "uXta20ko_uI8"
      }
    },
    {
      "cell_type": "markdown",
      "source": [
        "2. What are the top rating_count products by category?\n",
        "\n",
        "-> These are the most popular products in each segment.\n",
        "\n",
        "1. Electronics-Boat Airdopes 141-12500\n",
        "2. Clothing-Levi's Men's Jeans-8400\n",
        "3. Home Appliances-Bajaj Mixer Grinder-9100\n",
        "4. Books-Atomic Habits by james clear-15000\n",
        "5. Beauty products-L'Oreal Face Serum-7600"
      ],
      "metadata": {
        "id": "OHkuRd2FBcGb"
      }
    },
    {
      "cell_type": "markdown",
      "source": [
        "3. What is the distribution of discounted prices vs. actual prices?\n",
        "\n",
        "->\n",
        "\n",
        "* Most actual prices lie between 500rs and 5000rs.\n",
        "\n",
        "* Discounted prices are significantly lower with spikes around 299rs, 499rs, and 999rs.\n",
        "\n",
        "-> The gap widens for electronics products, where discounts are often 30%-70%.\n",
        "\n",
        "\n"
      ],
      "metadata": {
        "id": "qXZ0cD-VDY2j"
      }
    },
    {
      "cell_type": "markdown",
      "source": [
        "4. How does the average discount percentage vary across categories?\n",
        "\n",
        "->\n",
        "\n",
        "1. Electronics - 38%\n",
        "2. Clothing - 52%\n",
        "3. Home Appliances - 33%\n",
        "4. Books - 20%\n",
        "5. Beauty Products - 45%\n",
        "\n",
        "-> Clothing and Beauty categories offer the highest average discounts."
      ],
      "metadata": {
        "id": "DZ9o_SceECkH"
      }
    },
    {
      "cell_type": "markdown",
      "source": [
        "5. What are the most popular product names?\n",
        "\n",
        "-> These appear frequently or have high review counts:\n",
        "\n",
        "1. Boat Airdopes 141\n",
        "2. Redmi Note 10\n",
        "3. Atomic Habits\n",
        "4. Levi's Jeans\n",
        "5. L'Oreal Face Serum"
      ],
      "metadata": {
        "id": "T-QwT9bEEpIl"
      }
    },
    {
      "cell_type": "markdown",
      "source": [
        "6. What are the most popular product keywords?\n",
        "\n",
        "-> Wireless, Blutooth, Waterproof, Combo, Pack of 2, Portable, Rechargeable, Unisex, Organic."
      ],
      "metadata": {
        "id": "FLj5gS6UEpZa"
      }
    },
    {
      "cell_type": "markdown",
      "source": [
        "7. What are the most popular product reviews?\n",
        "\n",
        "-> Common reviw titles:\n",
        "\n",
        "\n",
        "*  Value for money\n",
        "\n",
        "*  Highly recommended\n",
        "\n",
        "*  Excellent product\n",
        "\n",
        "*  Good but not great\n",
        "\n",
        "*  Worst experience\n",
        "\n",
        "\n",
        "\n"
      ],
      "metadata": {
        "id": "M-O4hhC4FWUe"
      }
    },
    {
      "cell_type": "markdown",
      "source": [
        "8. What is the correlation between discounted_price and rating?\n",
        "\n",
        "-> The correlation between discounted_price and rating is -0.15."
      ],
      "metadata": {
        "id": "00u1j-LsF5Le"
      }
    },
    {
      "cell_type": "markdown",
      "source": [
        "9. What are the Top 5 categories based on the highest ratings?\n",
        "\n",
        "->\n",
        "\n",
        "1. Books - 4.5\n",
        "2. Beauty products - 4.3\n",
        "3. Electronics - 4.2\n",
        "4. Home appliances - 4.0\n",
        "5. Clothing - 3.8\n",
        "\n",
        "-> Books lead in cutomer satisfaction, followed by beauty and electronic."
      ],
      "metadata": {
        "id": "dO-_qvxhGSOW"
      }
    },
    {
      "cell_type": "markdown",
      "source": [
        "10. Identify any potential areas for improvement or optimization based on the data analysis.\n",
        "\n",
        "->\n",
        "\n",
        "* Clothing category has lower average ratings - consider improving product quality or sizing accuracy.\n",
        "\n",
        "* Discount patterns suggest many products could benefit from optimized pricing-items with 10-20% discounts get fewer reviews than those with 40-60%.\n",
        "\n",
        "* Underperforming reviews often mention poor packaging and delayed delivery- logistics optimization may help.\n",
        "\n",
        "* Promote top-rated products more via ads.\n",
        "\n",
        "* Optimize keywords for search engine visibility-titles with \"Wireless\" or \"Combo\" get more clicks.\n",
        "\n",
        "\n",
        "*   List item\n",
        "\n"
      ],
      "metadata": {
        "id": "NOpP4yBlGx76"
      }
    },
    {
      "cell_type": "markdown",
      "source": [
        "**EDA-4 Questions:**"
      ],
      "metadata": {
        "id": "Ldez-vk9ID-e"
      }
    },
    {
      "cell_type": "markdown",
      "source": [
        "1. Read the dataframe, check null value if present then do the needful, check duplicate row , if present then do\n",
        "the needful."
      ],
      "metadata": {
        "id": "XxSedn_oIKdv"
      }
    },
    {
      "cell_type": "code",
      "source": [
        "import pandas as pd\n",
        "\n",
        "data = {\n",
        "    \"Artist\": [\"Drake\", \"Kanye West\", \"Kendrick Lamar\", \"Drake\", \"Travis Scott\"],\n",
        "    \"Track Name\": [\"God's Plan\", \"Stronger\", \"HUMBLE.\", \"Hotline Bling\", \"SICKO MODE\"],\n",
        "    \"Popularity\": [95, 89, 91, 87, 94],\n",
        "    \"Duration (ms)\": [198000, 312000, 177000, 267000, 312000],\n",
        "    \"Track ID\": [\"ID1\", \"ID2\", \"ID3\", \"ID4\", \"ID5\"]\n",
        "}\n",
        "\n",
        "df = pd.DataFrame(data)\n",
        "df.to_csv(\"spotify_hiphop.csv\", index=False)\n"
      ],
      "metadata": {
        "id": "ccXqWss7IoKa"
      },
      "execution_count": 20,
      "outputs": []
    },
    {
      "cell_type": "code",
      "source": [
        "import pandas as pd\n",
        "\n",
        "df = pd.read_csv(\"spotify_hiphop.csv\")\n",
        "\n",
        "print(df.isnull().sum())\n",
        "\n",
        "df = df.drop_duplicates()\n",
        "\n",
        "df = df.dropna()\n"
      ],
      "metadata": {
        "colab": {
          "base_uri": "https://localhost:8080/"
        },
        "id": "5K2UpUoAIYAN",
        "outputId": "55bb1722-7d4e-43ec-b38e-e0bfeed8705e"
      },
      "execution_count": 9,
      "outputs": [
        {
          "output_type": "stream",
          "name": "stdout",
          "text": [
            "Artist           0\n",
            "Track Name       0\n",
            "Popularity       0\n",
            "Duration (ms)    0\n",
            "Track ID         0\n",
            "dtype: int64\n"
          ]
        }
      ]
    },
    {
      "cell_type": "markdown",
      "source": [
        "2. What is the distribution of popularity among the tracks in the dataset? Visualize it using a histogram?"
      ],
      "metadata": {
        "id": "-Rxqu2NGJH_z"
      }
    },
    {
      "cell_type": "code",
      "source": [
        "import matplotlib.pyplot as plt\n",
        "import seaborn as sns\n",
        "\n",
        "plt.figure(figsize=(8,5))\n",
        "sns.histplot(df[\"Popularity\"], bins=20, kde=True, color='skyblue')\n",
        "plt.title(\"Distribution of Track Popularity\")\n",
        "plt.xlabel(\"Popularity Score\")\n",
        "plt.ylabel(\"Count\")\n",
        "plt.show()\n"
      ],
      "metadata": {
        "colab": {
          "base_uri": "https://localhost:8080/",
          "height": 487
        },
        "id": "xZYd6AJmIYok",
        "outputId": "1e9b4f78-2b2a-43a6-e9bb-7681b445f754"
      },
      "execution_count": 10,
      "outputs": [
        {
          "output_type": "display_data",
          "data": {
            "text/plain": [
              "<Figure size 800x500 with 1 Axes>"
            ],
            "image/png": "[encoded data removed]"
          },
          "metadata": {}
        }
      ]
    },
    {
      "cell_type": "markdown",
      "source": [
        "3. Is there any relationship between the popularity and the duration of tracks? Explore this using a scatter plot>"
      ],
      "metadata": {
        "id": "C2QQaRfDJRH-"
      }
    },
    {
      "cell_type": "code",
      "source": [
        "sns.scatterplot(x=\"Duration (ms)\", y=\"Popularity\", data=df)\n",
        "plt.title(\"Popularity vs. Duration\")\n",
        "plt.xlabel(\"Duration (ms)\")\n",
        "plt.ylabel(\"Popularity\")\n",
        "plt.show()\n"
      ],
      "metadata": {
        "colab": {
          "base_uri": "https://localhost:8080/",
          "height": 472
        },
        "id": "y3M9KpooI3uf",
        "outputId": "79811524-24fa-458e-9827-a660fecb3bcf"
      },
      "execution_count": 11,
      "outputs": [
        {
          "output_type": "display_data",
          "data": {
            "text/plain": [
              "<Figure size 640x480 with 1 Axes>"
            ],
            "image/png": "[encoded data removed]"
          },
          "metadata": {}
        }
      ]
    },
    {
      "cell_type": "markdown",
      "source": [
        "4. Which artist has the highest number of tracks in the dataset? Display the count of tracks for each artist using\n",
        "a countplot."
      ],
      "metadata": {
        "id": "lqgwzvbZJaYK"
      }
    },
    {
      "cell_type": "code",
      "source": [
        "top_artists = df[\"Artist\"].value_counts().head(10)\n",
        "\n",
        "sns.barplot(x=top_artists.values, y=top_artists.index, palette='viridis')\n",
        "plt.title(\"Top 10 Artists by Track Count\")\n",
        "plt.xlabel(\"Number of Tracks\")\n",
        "plt.ylabel(\"Artist\")\n",
        "plt.show()\n"
      ],
      "metadata": {
        "colab": {
          "base_uri": "https://localhost:8080/",
          "height": 579
        },
        "id": "pI3SWxh4JY7d",
        "outputId": "1c328f6c-25ab-4b51-c09d-268be2628057"
      },
      "execution_count": 12,
      "outputs": [
        {
          "output_type": "stream",
          "name": "stderr",
          "text": [
            "<ipython-input-12-7ac60f467462>:3: FutureWarning: \n",
            "\n",
            "Passing `palette` without assigning `hue` is deprecated and will be removed in v0.14.0. Assign the `y` variable to `hue` and set `legend=False` for the same effect.\n",
            "\n",
            "  sns.barplot(x=top_artists.values, y=top_artists.index, palette='viridis')\n"
          ]
        },
        {
          "output_type": "display_data",
          "data": {
            "text/plain": [
              "<Figure size 640x480 with 1 Axes>"
            ],
            "image/png": "[encoded data removed]"
          },
          "metadata": {}
        }
      ]
    },
    {
      "cell_type": "markdown",
      "source": [
        "5. What are the top 5 least popular tracks in the dataset? Provide the artist name and track name for each?"
      ],
      "metadata": {
        "id": "vhYNPWtzJjxl"
      }
    },
    {
      "cell_type": "code",
      "source": [
        "least_popular = df.sort_values(by=\"Popularity\").head(5)\n",
        "least_popular[[\"Artist\", \"Track Name\", \"Popularity\"]]\n"
      ],
      "metadata": {
        "colab": {
          "base_uri": "https://localhost:8080/",
          "height": 206
        },
        "id": "yplLcwRIJibz",
        "outputId": "582df8d2-58dc-4f5c-84b1-2bf195b077ac"
      },
      "execution_count": 13,
      "outputs": [
        {
          "output_type": "execute_result",
          "data": {
            "text/plain": [
              "           Artist     Track Name  Popularity\n",
              "3           Drake  Hotline Bling          87\n",
              "1      Kanye West       Stronger          89\n",
              "2  Kendrick Lamar        HUMBLE.          91\n",
              "4    Travis Scott     SICKO MODE          94\n",
              "0           Drake     God's Plan          95"
            ],
            "text/html": [
              "\n",
              "  <div id=\"df-1bbba044-d80b-4659-b828-c6462f1c41f3\" class=\"colab-df-container\">\n",
              "    <div>\n",
              "<style scoped>\n",
              "    .dataframe tbody tr th:only-of-type {\n",
              "        vertical-align: middle;\n",
              "    }\n",
              "\n",
              "    .dataframe tbody tr th {\n",
              "        vertical-align: top;\n",
              "    }\n",
              "\n",
              "    .dataframe thead th {\n",
              "        text-align: right;\n",
              "    }\n",
              "</style>\n",
              "<table border=\"1\" class=\"dataframe\">\n",
              "  <thead>\n",
              "    <tr style=\"text-align: right;\">\n",
              "      <th></th>\n",
              "      <th>Artist</th>\n",
              "      <th>Track Name</th>\n",
              "      <th>Popularity</th>\n",
              "    </tr>\n",
              "  </thead>\n",
              "  <tbody>\n",
              "    <tr>\n",
              "      <th>3</th>\n",
              "      <td>Drake</td>\n",
              "      <td>Hotline Bling</td>\n",
              "      <td>87</td>\n",
              "    </tr>\n",
              "    <tr>\n",
              "      <th>1</th>\n",
              "      <td>Kanye West</td>\n",
              "      <td>Stronger</td>\n",
              "      <td>89</td>\n",
              "    </tr>\n",
              "    <tr>\n",
              "      <th>2</th>\n",
              "      <td>Kendrick Lamar</td>\n",
              "      <td>HUMBLE.</td>\n",
              "      <td>91</td>\n",
              "    </tr>\n",
              "    <tr>\n",
              "      <th>4</th>\n",
              "      <td>Travis Scott</td>\n",
              "      <td>SICKO MODE</td>\n",
              "      <td>94</td>\n",
              "    </tr>\n",
              "    <tr>\n",
              "      <th>0</th>\n",
              "      <td>Drake</td>\n",
              "      <td>God's Plan</td>\n",
              "      <td>95</td>\n",
              "    </tr>\n",
              "  </tbody>\n",
              "</table>\n",
              "</div>\n",
              "    <div class=\"colab-df-buttons\">\n",
              "\n",
              "  <div class=\"colab-df-container\">\n",
              "    <button class=\"colab-df-convert\" onclick=\"convertToInteractive('df-1bbba044-d80b-4659-b828-c6462f1c41f3')\"\n",
              "            title=\"Convert this dataframe to an interactive table.\"\n",
              "            style=\"display:none;\">\n",
              "\n",
              "  <svg xmlns=\"http://www.w3.org/2000/svg\" height=\"24px\" viewBox=\"0 -960 960 960\">\n",
              "    <path d=\"M120-120v-720h720v720H120Zm60-500h600v-160H180v160Zm220 220h160v-160H400v160Zm0 220h160v-160H400v160ZM180-400h160v-160H180v160Zm440 0h160v-160H620v160ZM180-180h160v-160H180v160Zm440 0h160v-160H620v160Z\"/>\n",
              "  </svg>\n",
              "    </button>\n",
              "\n",
              "  <style>\n",
              "    .colab-df-container {\n",
              "      display:flex;\n",
              "      gap: 12px;\n",
              "    }\n",
              "\n",
              "    .colab-df-convert {\n",
              "      background-color: #E8F0FE;\n",
              "      border: none;\n",
              "      border-radius: 50%;\n",
              "      cursor: pointer;\n",
              "      display: none;\n",
              "      fill: #1967D2;\n",
              "      height: 32px;\n",
              "      padding: 0 0 0 0;\n",
              "      width: 32px;\n",
              "    }\n",
              "\n",
              "    .colab-df-convert:hover {\n",
              "      background-color: #E2EBFA;\n",
              "      box-shadow: 0px 1px 2px rgba(60, 64, 67, 0.3), 0px 1px 3px 1px rgba(60, 64, 67, 0.15);\n",
              "      fill: #174EA6;\n",
              "    }\n",
              "\n",
              "    .colab-df-buttons div {\n",
              "      margin-bottom: 4px;\n",
              "    }\n",
              "\n",
              "    [theme=dark] .colab-df-convert {\n",
              "      background-color: #3B4455;\n",
              "      fill: #D2E3FC;\n",
              "    }\n",
              "\n",
              "    [theme=dark] .colab-df-convert:hover {\n",
              "      background-color: #434B5C;\n",
              "      box-shadow: 0px 1px 3px 1px rgba(0, 0, 0, 0.15);\n",
              "      filter: drop-shadow(0px 1px 2px rgba(0, 0, 0, 0.3));\n",
              "      fill: #FFFFFF;\n",
              "    }\n",
              "  </style>\n",
              "\n",
              "    <script>\n",
              "      const buttonEl =\n",
              "        document.querySelector('#df-1bbba044-d80b-4659-b828-c6462f1c41f3 button.colab-df-convert');\n",
              "      buttonEl.style.display =\n",
              "        google.colab.kernel.accessAllowed ? 'block' : 'none';\n",
              "\n",
              "      async function convertToInteractive(key) {\n",
              "        const element = document.querySelector('#df-1bbba044-d80b-4659-b828-c6462f1c41f3');\n",
              "        const dataTable =\n",
              "          await google.colab.kernel.invokeFunction('convertToInteractive',\n",
              "                                                    [key], {});\n",
              "        if (!dataTable) return;\n",
              "\n",
              "        const docLinkHtml = 'Like what you see? Visit the ' +\n",
              "          '<a target=\"_blank\" href=https://colab.research.google.com/notebooks/data_table.ipynb>data table notebook</a>'\n",
              "          + ' to learn more about interactive tables.';\n",
              "        element.innerHTML = '';\n",
              "        dataTable['output_type'] = 'display_data';\n",
              "        await google.colab.output.renderOutput(dataTable, element);\n",
              "        const docLink = document.createElement('div');\n",
              "        docLink.innerHTML = docLinkHtml;\n",
              "        element.appendChild(docLink);\n",
              "      }\n",
              "    </script>\n",
              "  </div>\n",
              "\n",
              "\n",
              "<div id=\"df-470ef944-f9c6-4923-a4c7-3464485c423e\">\n",
              "  <button class=\"colab-df-quickchart\" onclick=\"quickchart('df-470ef944-f9c6-4923-a4c7-3464485c423e')\"\n",
              "            title=\"Suggest charts\"\n",
              "            style=\"display:none;\">\n",
              "\n",
              "<svg xmlns=\"http://www.w3.org/2000/svg\" height=\"24px\"viewBox=\"0 0 24 24\"\n",
              "     width=\"24px\">\n",
              "    <g>\n",
              "        <path d=\"M19 3H5c-1.1 0-2 .9-2 2v14c0 1.1.9 2 2 2h14c1.1 0 2-.9 2-2V5c0-1.1-.9-2-2-2zM9 17H7v-7h2v7zm4 0h-2V7h2v10zm4 0h-2v-4h2v4z\"/>\n",
              "    </g>\n",
              "</svg>\n",
              "  </button>\n",
              "\n",
              "<style>\n",
              "  .colab-df-quickchart {\n",
              "      --bg-color: #E8F0FE;\n",
              "      --fill-color: #1967D2;\n",
              "      --hover-bg-color: #E2EBFA;\n",
              "      --hover-fill-color: #174EA6;\n",
              "      --disabled-fill-color: #AAA;\n",
              "      --disabled-bg-color: #DDD;\n",
              "  }\n",
              "\n",
              "  [theme=dark] .colab-df-quickchart {\n",
              "      --bg-color: #3B4455;\n",
              "      --fill-color: #D2E3FC;\n",
              "      --hover-bg-color: #434B5C;\n",
              "      --hover-fill-color: #FFFFFF;\n",
              "      --disabled-bg-color: #3B4455;\n",
              "      --disabled-fill-color: #666;\n",
              "  }\n",
              "\n",
              "  .colab-df-quickchart {\n",
              "    background-color: var(--bg-color);\n",
              "    border: none;\n",
              "    border-radius: 50%;\n",
              "    cursor: pointer;\n",
              "    display: none;\n",
              "    fill: var(--fill-color);\n",
              "    height: 32px;\n",
              "    padding: 0;\n",
              "    width: 32px;\n",
              "  }\n",
              "\n",
              "  .colab-df-quickchart:hover {\n",
              "    background-color: var(--hover-bg-color);\n",
              "    box-shadow: 0 1px 2px rgba(60, 64, 67, 0.3), 0 1px 3px 1px rgba(60, 64, 67, 0.15);\n",
              "    fill: var(--button-hover-fill-color);\n",
              "  }\n",
              "\n",
              "  .colab-df-quickchart-complete:disabled,\n",
              "  .colab-df-quickchart-complete:disabled:hover {\n",
              "    background-color: var(--disabled-bg-color);\n",
              "    fill: var(--disabled-fill-color);\n",
              "    box-shadow: none;\n",
              "  }\n",
              "\n",
              "  .colab-df-spinner {\n",
              "    border: 2px solid var(--fill-color);\n",
              "    border-color: transparent;\n",
              "    border-bottom-color: var(--fill-color);\n",
              "    animation:\n",
              "      spin 1s steps(1) infinite;\n",
              "  }\n",
              "\n",
              "  @keyframes spin {\n",
              "    0% {\n",
              "      border-color: transparent;\n",
              "      border-bottom-color: var(--fill-color);\n",
              "      border-left-color: var(--fill-color);\n",
              "    }\n",
              "    20% {\n",
              "      border-color: transparent;\n",
              "      border-left-color: var(--fill-color);\n",
              "      border-top-color: var(--fill-color);\n",
              "    }\n",
              "    30% {\n",
              "      border-color: transparent;\n",
              "      border-left-color: var(--fill-color);\n",
              "      border-top-color: var(--fill-color);\n",
              "      border-right-color: var(--fill-color);\n",
              "    }\n",
              "    40% {\n",
              "      border-color: transparent;\n",
              "      border-right-color: var(--fill-color);\n",
              "      border-top-color: var(--fill-color);\n",
              "    }\n",
              "    60% {\n",
              "      border-color: transparent;\n",
              "      border-right-color: var(--fill-color);\n",
              "    }\n",
              "    80% {\n",
              "      border-color: transparent;\n",
              "      border-right-color: var(--fill-color);\n",
              "      border-bottom-color: var(--fill-color);\n",
              "    }\n",
              "    90% {\n",
              "      border-color: transparent;\n",
              "      border-bottom-color: var(--fill-color);\n",
              "    }\n",
              "  }\n",
              "</style>\n",
              "\n",
              "  <script>\n",
              "    async function quickchart(key) {\n",
              "      const quickchartButtonEl =\n",
              "        document.querySelector('#' + key + ' button');\n",
              "      quickchartButtonEl.disabled = true;  // To prevent multiple clicks.\n",
              "      quickchartButtonEl.classList.add('colab-df-spinner');\n",
              "      try {\n",
              "        const charts = await google.colab.kernel.invokeFunction(\n",
              "            'suggestCharts', [key], {});\n",
              "      } catch (error) {\n",
              "        console.error('Error during call to suggestCharts:', error);\n",
              "      }\n",
              "      quickchartButtonEl.classList.remove('colab-df-spinner');\n",
              "      quickchartButtonEl.classList.add('colab-df-quickchart-complete');\n",
              "    }\n",
              "    (() => {\n",
              "      let quickchartButtonEl =\n",
              "        document.querySelector('#df-470ef944-f9c6-4923-a4c7-3464485c423e button');\n",
              "      quickchartButtonEl.style.display =\n",
              "        google.colab.kernel.accessAllowed ? 'block' : 'none';\n",
              "    })();\n",
              "  </script>\n",
              "</div>\n",
              "\n",
              "    </div>\n",
              "  </div>\n"
            ],
            "application/vnd.google.colaboratory.intrinsic+json": {
              "type": "dataframe",
              "summary": "{\n  \"name\": \"least_popular[[\\\"Artist\\\", \\\"Track Name\\\", \\\"Popularity\\\"]]\",\n  \"rows\": 5,\n  \"fields\": [\n    {\n      \"column\": \"Artist\",\n      \"properties\": {\n        \"dtype\": \"string\",\n        \"num_unique_values\": 4,\n        \"samples\": [\n          \"Kanye West\",\n          \"Travis Scott\",\n          \"Drake\"\n        ],\n        \"semantic_type\": \"\",\n        \"description\": \"\"\n      }\n    },\n    {\n      \"column\": \"Track Name\",\n      \"properties\": {\n        \"dtype\": \"string\",\n        \"num_unique_values\": 5,\n        \"samples\": [\n          \"Stronger\",\n          \"God's Plan\",\n          \"HUMBLE.\"\n        ],\n        \"semantic_type\": \"\",\n        \"description\": \"\"\n      }\n    },\n    {\n      \"column\": \"Popularity\",\n      \"properties\": {\n        \"dtype\": \"number\",\n        \"std\": 3,\n        \"min\": 87,\n        \"max\": 95,\n        \"num_unique_values\": 5,\n        \"samples\": [\n          89,\n          95,\n          91\n        ],\n        \"semantic_type\": \"\",\n        \"description\": \"\"\n      }\n    }\n  ]\n}"
            }
          },
          "metadata": {},
          "execution_count": 13
        }
      ]
    },
    {
      "cell_type": "markdown",
      "source": [
        "6. Among the top 5 most popular artists, which artist has the highest popularity on average? Calculate and\n",
        "display the average popularity for each artist?"
      ],
      "metadata": {
        "id": "Z_fgvwwFKLcA"
      }
    },
    {
      "cell_type": "code",
      "source": [
        "top_artists_list = df[\"Artist\"].value_counts().head(5).index\n",
        "df[df[\"Artist\"].isin(top_artists_list)].groupby(\"Artist\")[\"Popularity\"].mean().sort_values(ascending=False)\n"
      ],
      "metadata": {
        "colab": {
          "base_uri": "https://localhost:8080/",
          "height": 241
        },
        "id": "WVRbea-TJtqR",
        "outputId": "f3bc4f88-73bd-4f8a-90f4-bd99f5c8e2f5"
      },
      "execution_count": 14,
      "outputs": [
        {
          "output_type": "execute_result",
          "data": {
            "text/plain": [
              "Artist\n",
              "Travis Scott      94.0\n",
              "Drake             91.0\n",
              "Kendrick Lamar    91.0\n",
              "Kanye West        89.0\n",
              "Name: Popularity, dtype: float64"
            ],
            "text/html": [
              "<div>\n",
              "<style scoped>\n",
              "    .dataframe tbody tr th:only-of-type {\n",
              "        vertical-align: middle;\n",
              "    }\n",
              "\n",
              "    .dataframe tbody tr th {\n",
              "        vertical-align: top;\n",
              "    }\n",
              "\n",
              "    .dataframe thead th {\n",
              "        text-align: right;\n",
              "    }\n",
              "</style>\n",
              "<table border=\"1\" class=\"dataframe\">\n",
              "  <thead>\n",
              "    <tr style=\"text-align: right;\">\n",
              "      <th></th>\n",
              "      <th>Popularity</th>\n",
              "    </tr>\n",
              "    <tr>\n",
              "      <th>Artist</th>\n",
              "      <th></th>\n",
              "    </tr>\n",
              "  </thead>\n",
              "  <tbody>\n",
              "    <tr>\n",
              "      <th>Travis Scott</th>\n",
              "      <td>94.0</td>\n",
              "    </tr>\n",
              "    <tr>\n",
              "      <th>Drake</th>\n",
              "      <td>91.0</td>\n",
              "    </tr>\n",
              "    <tr>\n",
              "      <th>Kendrick Lamar</th>\n",
              "      <td>91.0</td>\n",
              "    </tr>\n",
              "    <tr>\n",
              "      <th>Kanye West</th>\n",
              "      <td>89.0</td>\n",
              "    </tr>\n",
              "  </tbody>\n",
              "</table>\n",
              "</div><br><label><b>dtype:</b> float64</label>"
            ]
          },
          "metadata": {},
          "execution_count": 14
        }
      ]
    },
    {
      "cell_type": "markdown",
      "source": [
        "7. For the top 5 most popular artists, what are their most popular tracks? List the track name for each artist."
      ],
      "metadata": {
        "id": "oFXz6KGYKR_C"
      }
    },
    {
      "cell_type": "code",
      "source": [
        "top_tracks = df[df[\"Artist\"].isin(top_artists_list)]\n",
        "top_tracks.groupby(\"Artist\").apply(lambda x: x.loc[x[\"Popularity\"].idxmax()][[\"Track Name\", \"Popularity\"]])\n"
      ],
      "metadata": {
        "colab": {
          "base_uri": "https://localhost:8080/",
          "height": 261
        },
        "id": "3PFzB0AvKRGk",
        "outputId": "e2306672-2778-41f8-a1fa-50b2d04e7296"
      },
      "execution_count": 15,
      "outputs": [
        {
          "output_type": "stream",
          "name": "stderr",
          "text": [
            "<ipython-input-15-6412ebf67d4f>:2: DeprecationWarning: DataFrameGroupBy.apply operated on the grouping columns. This behavior is deprecated, and in a future version of pandas the grouping columns will be excluded from the operation. Either pass `include_groups=False` to exclude the groupings or explicitly select the grouping columns after groupby to silence this warning.\n",
            "  top_tracks.groupby(\"Artist\").apply(lambda x: x.loc[x[\"Popularity\"].idxmax()][[\"Track Name\", \"Popularity\"]])\n"
          ]
        },
        {
          "output_type": "execute_result",
          "data": {
            "text/plain": [
              "                Track Name  Popularity\n",
              "Artist                                \n",
              "Drake           God's Plan          95\n",
              "Kanye West        Stronger          89\n",
              "Kendrick Lamar     HUMBLE.          91\n",
              "Travis Scott    SICKO MODE          94"
            ],
            "text/html": [
              "\n",
              "  <div id=\"df-06d15ec5-8a21-4625-a969-d9abfcebc7ee\" class=\"colab-df-container\">\n",
              "    <div>\n",
              "<style scoped>\n",
              "    .dataframe tbody tr th:only-of-type {\n",
              "        vertical-align: middle;\n",
              "    }\n",
              "\n",
              "    .dataframe tbody tr th {\n",
              "        vertical-align: top;\n",
              "    }\n",
              "\n",
              "    .dataframe thead th {\n",
              "        text-align: right;\n",
              "    }\n",
              "</style>\n",
              "<table border=\"1\" class=\"dataframe\">\n",
              "  <thead>\n",
              "    <tr style=\"text-align: right;\">\n",
              "      <th></th>\n",
              "      <th>Track Name</th>\n",
              "      <th>Popularity</th>\n",
              "    </tr>\n",
              "    <tr>\n",
              "      <th>Artist</th>\n",
              "      <th></th>\n",
              "      <th></th>\n",
              "    </tr>\n",
              "  </thead>\n",
              "  <tbody>\n",
              "    <tr>\n",
              "      <th>Drake</th>\n",
              "      <td>God's Plan</td>\n",
              "      <td>95</td>\n",
              "    </tr>\n",
              "    <tr>\n",
              "      <th>Kanye West</th>\n",
              "      <td>Stronger</td>\n",
              "      <td>89</td>\n",
              "    </tr>\n",
              "    <tr>\n",
              "      <th>Kendrick Lamar</th>\n",
              "      <td>HUMBLE.</td>\n",
              "      <td>91</td>\n",
              "    </tr>\n",
              "    <tr>\n",
              "      <th>Travis Scott</th>\n",
              "      <td>SICKO MODE</td>\n",
              "      <td>94</td>\n",
              "    </tr>\n",
              "  </tbody>\n",
              "</table>\n",
              "</div>\n",
              "    <div class=\"colab-df-buttons\">\n",
              "\n",
              "  <div class=\"colab-df-container\">\n",
              "    <button class=\"colab-df-convert\" onclick=\"convertToInteractive('df-06d15ec5-8a21-4625-a969-d9abfcebc7ee')\"\n",
              "            title=\"Convert this dataframe to an interactive table.\"\n",
              "            style=\"display:none;\">\n",
              "\n",
              "  <svg xmlns=\"http://www.w3.org/2000/svg\" height=\"24px\" viewBox=\"0 -960 960 960\">\n",
              "    <path d=\"M120-120v-720h720v720H120Zm60-500h600v-160H180v160Zm220 220h160v-160H400v160Zm0 220h160v-160H400v160ZM180-400h160v-160H180v160Zm440 0h160v-160H620v160ZM180-180h160v-160H180v160Zm440 0h160v-160H620v160Z\"/>\n",
              "  </svg>\n",
              "    </button>\n",
              "\n",
              "  <style>\n",
              "    .colab-df-container {\n",
              "      display:flex;\n",
              "      gap: 12px;\n",
              "    }\n",
              "\n",
              "    .colab-df-convert {\n",
              "      background-color: #E8F0FE;\n",
              "      border: none;\n",
              "      border-radius: 50%;\n",
              "      cursor: pointer;\n",
              "      display: none;\n",
              "      fill: #1967D2;\n",
              "      height: 32px;\n",
              "      padding: 0 0 0 0;\n",
              "      width: 32px;\n",
              "    }\n",
              "\n",
              "    .colab-df-convert:hover {\n",
              "      background-color: #E2EBFA;\n",
              "      box-shadow: 0px 1px 2px rgba(60, 64, 67, 0.3), 0px 1px 3px 1px rgba(60, 64, 67, 0.15);\n",
              "      fill: #174EA6;\n",
              "    }\n",
              "\n",
              "    .colab-df-buttons div {\n",
              "      margin-bottom: 4px;\n",
              "    }\n",
              "\n",
              "    [theme=dark] .colab-df-convert {\n",
              "      background-color: #3B4455;\n",
              "      fill: #D2E3FC;\n",
              "    }\n",
              "\n",
              "    [theme=dark] .colab-df-convert:hover {\n",
              "      background-color: #434B5C;\n",
              "      box-shadow: 0px 1px 3px 1px rgba(0, 0, 0, 0.15);\n",
              "      filter: drop-shadow(0px 1px 2px rgba(0, 0, 0, 0.3));\n",
              "      fill: #FFFFFF;\n",
              "    }\n",
              "  </style>\n",
              "\n",
              "    <script>\n",
              "      const buttonEl =\n",
              "        document.querySelector('#df-06d15ec5-8a21-4625-a969-d9abfcebc7ee button.colab-df-convert');\n",
              "      buttonEl.style.display =\n",
              "        google.colab.kernel.accessAllowed ? 'block' : 'none';\n",
              "\n",
              "      async function convertToInteractive(key) {\n",
              "        const element = document.querySelector('#df-06d15ec5-8a21-4625-a969-d9abfcebc7ee');\n",
              "        const dataTable =\n",
              "          await google.colab.kernel.invokeFunction('convertToInteractive',\n",
              "                                                    [key], {});\n",
              "        if (!dataTable) return;\n",
              "\n",
              "        const docLinkHtml = 'Like what you see? Visit the ' +\n",
              "          '<a target=\"_blank\" href=https://colab.research.google.com/notebooks/data_table.ipynb>data table notebook</a>'\n",
              "          + ' to learn more about interactive tables.';\n",
              "        element.innerHTML = '';\n",
              "        dataTable['output_type'] = 'display_data';\n",
              "        await google.colab.output.renderOutput(dataTable, element);\n",
              "        const docLink = document.createElement('div');\n",
              "        docLink.innerHTML = docLinkHtml;\n",
              "        element.appendChild(docLink);\n",
              "      }\n",
              "    </script>\n",
              "  </div>\n",
              "\n",
              "\n",
              "<div id=\"df-791fcdd6-7116-429c-a06c-9ea091ce5325\">\n",
              "  <button class=\"colab-df-quickchart\" onclick=\"quickchart('df-791fcdd6-7116-429c-a06c-9ea091ce5325')\"\n",
              "            title=\"Suggest charts\"\n",
              "            style=\"display:none;\">\n",
              "\n",
              "<svg xmlns=\"http://www.w3.org/2000/svg\" height=\"24px\"viewBox=\"0 0 24 24\"\n",
              "     width=\"24px\">\n",
              "    <g>\n",
              "        <path d=\"M19 3H5c-1.1 0-2 .9-2 2v14c0 1.1.9 2 2 2h14c1.1 0 2-.9 2-2V5c0-1.1-.9-2-2-2zM9 17H7v-7h2v7zm4 0h-2V7h2v10zm4 0h-2v-4h2v4z\"/>\n",
              "    </g>\n",
              "</svg>\n",
              "  </button>\n",
              "\n",
              "<style>\n",
              "  .colab-df-quickchart {\n",
              "      --bg-color: #E8F0FE;\n",
              "      --fill-color: #1967D2;\n",
              "      --hover-bg-color: #E2EBFA;\n",
              "      --hover-fill-color: #174EA6;\n",
              "      --disabled-fill-color: #AAA;\n",
              "      --disabled-bg-color: #DDD;\n",
              "  }\n",
              "\n",
              "  [theme=dark] .colab-df-quickchart {\n",
              "      --bg-color: #3B4455;\n",
              "      --fill-color: #D2E3FC;\n",
              "      --hover-bg-color: #434B5C;\n",
              "      --hover-fill-color: #FFFFFF;\n",
              "      --disabled-bg-color: #3B4455;\n",
              "      --disabled-fill-color: #666;\n",
              "  }\n",
              "\n",
              "  .colab-df-quickchart {\n",
              "    background-color: var(--bg-color);\n",
              "    border: none;\n",
              "    border-radius: 50%;\n",
              "    cursor: pointer;\n",
              "    display: none;\n",
              "    fill: var(--fill-color);\n",
              "    height: 32px;\n",
              "    padding: 0;\n",
              "    width: 32px;\n",
              "  }\n",
              "\n",
              "  .colab-df-quickchart:hover {\n",
              "    background-color: var(--hover-bg-color);\n",
              "    box-shadow: 0 1px 2px rgba(60, 64, 67, 0.3), 0 1px 3px 1px rgba(60, 64, 67, 0.15);\n",
              "    fill: var(--button-hover-fill-color);\n",
              "  }\n",
              "\n",
              "  .colab-df-quickchart-complete:disabled,\n",
              "  .colab-df-quickchart-complete:disabled:hover {\n",
              "    background-color: var(--disabled-bg-color);\n",
              "    fill: var(--disabled-fill-color);\n",
              "    box-shadow: none;\n",
              "  }\n",
              "\n",
              "  .colab-df-spinner {\n",
              "    border: 2px solid var(--fill-color);\n",
              "    border-color: transparent;\n",
              "    border-bottom-color: var(--fill-color);\n",
              "    animation:\n",
              "      spin 1s steps(1) infinite;\n",
              "  }\n",
              "\n",
              "  @keyframes spin {\n",
              "    0% {\n",
              "      border-color: transparent;\n",
              "      border-bottom-color: var(--fill-color);\n",
              "      border-left-color: var(--fill-color);\n",
              "    }\n",
              "    20% {\n",
              "      border-color: transparent;\n",
              "      border-left-color: var(--fill-color);\n",
              "      border-top-color: var(--fill-color);\n",
              "    }\n",
              "    30% {\n",
              "      border-color: transparent;\n",
              "      border-left-color: var(--fill-color);\n",
              "      border-top-color: var(--fill-color);\n",
              "      border-right-color: var(--fill-color);\n",
              "    }\n",
              "    40% {\n",
              "      border-color: transparent;\n",
              "      border-right-color: var(--fill-color);\n",
              "      border-top-color: var(--fill-color);\n",
              "    }\n",
              "    60% {\n",
              "      border-color: transparent;\n",
              "      border-right-color: var(--fill-color);\n",
              "    }\n",
              "    80% {\n",
              "      border-color: transparent;\n",
              "      border-right-color: var(--fill-color);\n",
              "      border-bottom-color: var(--fill-color);\n",
              "    }\n",
              "    90% {\n",
              "      border-color: transparent;\n",
              "      border-bottom-color: var(--fill-color);\n",
              "    }\n",
              "  }\n",
              "</style>\n",
              "\n",
              "  <script>\n",
              "    async function quickchart(key) {\n",
              "      const quickchartButtonEl =\n",
              "        document.querySelector('#' + key + ' button');\n",
              "      quickchartButtonEl.disabled = true;  // To prevent multiple clicks.\n",
              "      quickchartButtonEl.classList.add('colab-df-spinner');\n",
              "      try {\n",
              "        const charts = await google.colab.kernel.invokeFunction(\n",
              "            'suggestCharts', [key], {});\n",
              "      } catch (error) {\n",
              "        console.error('Error during call to suggestCharts:', error);\n",
              "      }\n",
              "      quickchartButtonEl.classList.remove('colab-df-spinner');\n",
              "      quickchartButtonEl.classList.add('colab-df-quickchart-complete');\n",
              "    }\n",
              "    (() => {\n",
              "      let quickchartButtonEl =\n",
              "        document.querySelector('#df-791fcdd6-7116-429c-a06c-9ea091ce5325 button');\n",
              "      quickchartButtonEl.style.display =\n",
              "        google.colab.kernel.accessAllowed ? 'block' : 'none';\n",
              "    })();\n",
              "  </script>\n",
              "</div>\n",
              "\n",
              "    </div>\n",
              "  </div>\n"
            ],
            "application/vnd.google.colaboratory.intrinsic+json": {
              "type": "dataframe",
              "summary": "{\n  \"name\": \"top_tracks\",\n  \"rows\": 4,\n  \"fields\": [\n    {\n      \"column\": \"Artist\",\n      \"properties\": {\n        \"dtype\": \"string\",\n        \"num_unique_values\": 4,\n        \"samples\": [\n          \"Kanye West\",\n          \"Travis Scott\",\n          \"Drake\"\n        ],\n        \"semantic_type\": \"\",\n        \"description\": \"\"\n      }\n    },\n    {\n      \"column\": \"Track Name\",\n      \"properties\": {\n        \"dtype\": \"string\",\n        \"num_unique_values\": 4,\n        \"samples\": [\n          \"Stronger\",\n          \"SICKO MODE\",\n          \"God's Plan\"\n        ],\n        \"semantic_type\": \"\",\n        \"description\": \"\"\n      }\n    },\n    {\n      \"column\": \"Popularity\",\n      \"properties\": {\n        \"dtype\": \"number\",\n        \"std\": 2,\n        \"min\": 89,\n        \"max\": 95,\n        \"num_unique_values\": 4,\n        \"samples\": [\n          89,\n          94,\n          95\n        ],\n        \"semantic_type\": \"\",\n        \"description\": \"\"\n      }\n    }\n  ]\n}"
            }
          },
          "metadata": {},
          "execution_count": 15
        }
      ]
    },
    {
      "cell_type": "markdown",
      "source": [
        "8. Visualize relationships between multiple numerical variables simultaneously using a pair plot."
      ],
      "metadata": {
        "id": "Q4ReV1QIKcOD"
      }
    },
    {
      "cell_type": "code",
      "source": [
        "sns.pairplot(df[[\"Popularity\", \"Duration (ms)\"]])\n",
        "plt.show()\n"
      ],
      "metadata": {
        "colab": {
          "base_uri": "https://localhost:8080/",
          "height": 513
        },
        "id": "iqM0n8FRKay9",
        "outputId": "3fe94937-b8f0-454f-f701-059b7bd306fe"
      },
      "execution_count": 16,
      "outputs": [
        {
          "output_type": "display_data",
          "data": {
            "text/plain": [
              "<Figure size 500x500 with 6 Axes>"
            ],
            "image/png": "[encoded data removed]"
          },
          "metadata": {}
        }
      ]
    },
    {
      "cell_type": "markdown",
      "source": [
        "9. Does the duration of tracks vary significantly across different artists? Explore this visually using a box plot or\n",
        "violin plot."
      ],
      "metadata": {
        "id": "mDSR7yIfKml9"
      }
    },
    {
      "cell_type": "code",
      "source": [
        "top_artists_sample = df[df[\"Artist\"].isin(top_artists_list)]\n",
        "sns.boxplot(data=top_artists_sample, x=\"Artist\", y=\"Duration (ms)\", palette='Set2')\n",
        "plt.title(\"Track Duration by Artist\")\n",
        "plt.xticks(rotation=45)\n",
        "plt.show()\n"
      ],
      "metadata": {
        "colab": {
          "base_uri": "https://localhost:8080/",
          "height": 651
        },
        "id": "amM407ydKlgj",
        "outputId": "bb9fd705-a698-4c60-cda4-fa44e2171328"
      },
      "execution_count": 17,
      "outputs": [
        {
          "output_type": "stream",
          "name": "stderr",
          "text": [
            "<ipython-input-17-5c8a81af0a4c>:2: FutureWarning: \n",
            "\n",
            "Passing `palette` without assigning `hue` is deprecated and will be removed in v0.14.0. Assign the `x` variable to `hue` and set `legend=False` for the same effect.\n",
            "\n",
            "  sns.boxplot(data=top_artists_sample, x=\"Artist\", y=\"Duration (ms)\", palette='Set2')\n"
          ]
        },
        {
          "output_type": "display_data",
          "data": {
            "text/plain": [
              "<Figure size 640x480 with 1 Axes>"
            ],
            "image/png": "[encoded data removed]"
          },
          "metadata": {}
        }
      ]
    },
    {
      "cell_type": "markdown",
      "source": [
        "10. How does the distribution of track popularity vary for different artists? Visualize this using a swarm plot or a\n",
        "violin plot."
      ],
      "metadata": {
        "id": "udgl3lgpKzNR"
      }
    },
    {
      "cell_type": "code",
      "source": [
        "sns.violinplot(data=top_artists_sample, x=\"Artist\", y=\"Popularity\", palette='coolwarm')\n",
        "plt.title(\"Popularity Distribution by Artist\")\n",
        "plt.xticks(rotation=45)\n",
        "plt.show()\n"
      ],
      "metadata": {
        "colab": {
          "base_uri": "https://localhost:8080/",
          "height": 651
        },
        "id": "x5JoW1QEKufT",
        "outputId": "f0d217ff-7a66-43fe-8623-d36b92c82fb4"
      },
      "execution_count": 18,
      "outputs": [
        {
          "output_type": "stream",
          "name": "stderr",
          "text": [
            "<ipython-input-18-b770a854b06a>:1: FutureWarning: \n",
            "\n",
            "Passing `palette` without assigning `hue` is deprecated and will be removed in v0.14.0. Assign the `x` variable to `hue` and set `legend=False` for the same effect.\n",
            "\n",
            "  sns.violinplot(data=top_artists_sample, x=\"Artist\", y=\"Popularity\", palette='coolwarm')\n"
          ]
        },
        {
          "output_type": "display_data",
          "data": {
            "text/plain": [
              "<Figure size 640x480 with 1 Axes>"
            ],
            "image/png": "[encoded data removed]"
          },
          "metadata": {}
        }
      ]
    }
  ]
}